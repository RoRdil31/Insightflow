{
 "cells": [
  {
   "cell_type": "code",
   "execution_count": 2,
   "metadata": {},
   "outputs": [],
   "source": [
    "import pandas as pd"
   ]
  },
  {
   "cell_type": "markdown",
   "metadata": {},
   "source": [
    "# Data Load & View"
   ]
  },
  {
   "cell_type": "code",
   "execution_count": 3,
   "metadata": {},
   "outputs": [
    {
     "data": {
      "text/html": [
       "<div>\n",
       "<style scoped>\n",
       "    .dataframe tbody tr th:only-of-type {\n",
       "        vertical-align: middle;\n",
       "    }\n",
       "\n",
       "    .dataframe tbody tr th {\n",
       "        vertical-align: top;\n",
       "    }\n",
       "\n",
       "    .dataframe thead th {\n",
       "        text-align: right;\n",
       "    }\n",
       "</style>\n",
       "<table border=\"1\" class=\"dataframe\">\n",
       "  <thead>\n",
       "    <tr style=\"text-align: right;\">\n",
       "      <th></th>\n",
       "      <th>Unnamed: 0</th>\n",
       "      <th>newsID</th>\n",
       "      <th>newsCategory</th>\n",
       "      <th>newsSubcategory</th>\n",
       "      <th>newsTitle</th>\n",
       "      <th>newsSubTitle</th>\n",
       "      <th>newsContent</th>\n",
       "      <th>partNum</th>\n",
       "      <th>useType</th>\n",
       "      <th>processType</th>\n",
       "      <th>processPattern</th>\n",
       "      <th>processLevel</th>\n",
       "      <th>sentenceCount</th>\n",
       "      <th>sentenceInfo</th>\n",
       "      <th>processSentencenum</th>\n",
       "    </tr>\n",
       "  </thead>\n",
       "  <tbody>\n",
       "    <tr>\n",
       "      <th>0</th>\n",
       "      <td>0</td>\n",
       "      <td>EC_M02_000001</td>\n",
       "      <td>경제</td>\n",
       "      <td>일반</td>\n",
       "      <td>[오늘의 SR이슈] 윤리 문제 불거진 종근당 회장 조사 마치고 귀가…\\\"사죄한다\\\"</td>\n",
       "      <td>NaN</td>\n",
       "      <td>\\\"사죄한다.\\\" 운전기사들에게 허구한 날 폭언을 퍼부어 윤리 문제가 불거진 이장한...</td>\n",
       "      <td>P1</td>\n",
       "      <td>0</td>\n",
       "      <td>A</td>\n",
       "      <td>99</td>\n",
       "      <td>하</td>\n",
       "      <td>9</td>\n",
       "      <td>[{'sentenceNo': 1, 'sentenceContent': '\\\\\"사죄한다...</td>\n",
       "      <td>NaN</td>\n",
       "    </tr>\n",
       "    <tr>\n",
       "      <th>1</th>\n",
       "      <td>1</td>\n",
       "      <td>EC_M02_000006</td>\n",
       "      <td>경제</td>\n",
       "      <td>은행</td>\n",
       "      <td>한국기업지배구조원 733개 기업 ESG 등급 부여</td>\n",
       "      <td>NaN</td>\n",
       "      <td>한국기업지배구조원이 8월 31일 국내 상장회사의 환경경영(E), 사회책임경영(S),...</td>\n",
       "      <td>P1</td>\n",
       "      <td>0</td>\n",
       "      <td>A</td>\n",
       "      <td>99</td>\n",
       "      <td>하</td>\n",
       "      <td>13</td>\n",
       "      <td>[{'sentenceNo': 1, 'sentenceContent': '한국기업지배구...</td>\n",
       "      <td>NaN</td>\n",
       "    </tr>\n",
       "  </tbody>\n",
       "</table>\n",
       "</div>"
      ],
      "text/plain": [
       "   Unnamed: 0         newsID newsCategory newsSubcategory  \\\n",
       "0           0  EC_M02_000001           경제              일반   \n",
       "1           1  EC_M02_000006           경제              은행   \n",
       "\n",
       "                                        newsTitle newsSubTitle  \\\n",
       "0  [오늘의 SR이슈] 윤리 문제 불거진 종근당 회장 조사 마치고 귀가…\\\"사죄한다\\\"          NaN   \n",
       "1                     한국기업지배구조원 733개 기업 ESG 등급 부여          NaN   \n",
       "\n",
       "                                         newsContent partNum  useType  \\\n",
       "0  \\\"사죄한다.\\\" 운전기사들에게 허구한 날 폭언을 퍼부어 윤리 문제가 불거진 이장한...      P1        0   \n",
       "1  한국기업지배구조원이 8월 31일 국내 상장회사의 환경경영(E), 사회책임경영(S),...      P1        0   \n",
       "\n",
       "  processType  processPattern processLevel  sentenceCount  \\\n",
       "0           A              99            하              9   \n",
       "1           A              99            하             13   \n",
       "\n",
       "                                        sentenceInfo  processSentencenum  \n",
       "0  [{'sentenceNo': 1, 'sentenceContent': '\\\\\"사죄한다...                 NaN  \n",
       "1  [{'sentenceNo': 1, 'sentenceContent': '한국기업지배구...                 NaN  "
      ]
     },
     "execution_count": 3,
     "metadata": {},
     "output_type": "execute_result"
    }
   ],
   "source": [
    "data = pd.read_csv('X_train.csv')\n",
    "df = pd.DataFrame(data)\n",
    "df.head(2)"
   ]
  },
  {
   "cell_type": "code",
   "execution_count": 4,
   "metadata": {},
   "outputs": [
    {
     "data": {
      "text/plain": [
       "(586741, 15)"
      ]
     },
     "execution_count": 4,
     "metadata": {},
     "output_type": "execute_result"
    }
   ],
   "source": [
    "df.shape"
   ]
  },
  {
   "cell_type": "code",
   "execution_count": 5,
   "metadata": {},
   "outputs": [
    {
     "data": {
      "text/plain": [
       "Index(['newsID', 'newsCategory', 'newsSubcategory', 'newsTitle',\n",
       "       'newsSubTitle', 'newsContent', 'partNum', 'useType', 'processType',\n",
       "       'processPattern', 'processLevel', 'sentenceCount', 'sentenceInfo'],\n",
       "      dtype='object')"
      ]
     },
     "execution_count": 5,
     "metadata": {},
     "output_type": "execute_result"
    }
   ],
   "source": [
    "cols = df.columns[1:-1]\n",
    "cols"
   ]
  },
  {
   "cell_type": "code",
   "execution_count": 6,
   "metadata": {},
   "outputs": [
    {
     "name": "stdout",
     "output_type": "stream",
     "text": [
      "<class 'pandas.core.frame.DataFrame'>\n",
      "RangeIndex: 586741 entries, 0 to 586740\n",
      "Data columns (total 15 columns):\n",
      " #   Column              Non-Null Count   Dtype  \n",
      "---  ------              --------------   -----  \n",
      " 0   Unnamed: 0          586741 non-null  int64  \n",
      " 1   newsID              586741 non-null  object \n",
      " 2   newsCategory        586741 non-null  object \n",
      " 3   newsSubcategory     584926 non-null  object \n",
      " 4   newsTitle           586741 non-null  object \n",
      " 5   newsSubTitle        196809 non-null  object \n",
      " 6   newsContent         586741 non-null  object \n",
      " 7   partNum             586741 non-null  object \n",
      " 8   useType             586741 non-null  int64  \n",
      " 9   processType         586741 non-null  object \n",
      " 10  processPattern      586741 non-null  int64  \n",
      " 11  processLevel        586741 non-null  object \n",
      " 12  sentenceCount       586741 non-null  int64  \n",
      " 13  sentenceInfo        586741 non-null  object \n",
      " 14  processSentencenum  295275 non-null  float64\n",
      "dtypes: float64(1), int64(4), object(10)\n",
      "memory usage: 67.1+ MB\n"
     ]
    }
   ],
   "source": [
    "df.info()"
   ]
  },
  {
   "cell_type": "markdown",
   "metadata": {},
   "source": [
    "## describe"
   ]
  },
  {
   "cell_type": "code",
   "execution_count": 7,
   "metadata": {},
   "outputs": [
    {
     "data": {
      "text/html": [
       "<div>\n",
       "<style scoped>\n",
       "    .dataframe tbody tr th:only-of-type {\n",
       "        vertical-align: middle;\n",
       "    }\n",
       "\n",
       "    .dataframe tbody tr th {\n",
       "        vertical-align: top;\n",
       "    }\n",
       "\n",
       "    .dataframe thead th {\n",
       "        text-align: right;\n",
       "    }\n",
       "</style>\n",
       "<table border=\"1\" class=\"dataframe\">\n",
       "  <thead>\n",
       "    <tr style=\"text-align: right;\">\n",
       "      <th></th>\n",
       "      <th>Unnamed: 0</th>\n",
       "      <th>useType</th>\n",
       "      <th>processPattern</th>\n",
       "      <th>sentenceCount</th>\n",
       "      <th>processSentencenum</th>\n",
       "    </tr>\n",
       "  </thead>\n",
       "  <tbody>\n",
       "    <tr>\n",
       "      <th>count</th>\n",
       "      <td>586741.000000</td>\n",
       "      <td>586741.000000</td>\n",
       "      <td>586741.000000</td>\n",
       "      <td>586741.000000</td>\n",
       "      <td>295275.000000</td>\n",
       "    </tr>\n",
       "    <tr>\n",
       "      <th>mean</th>\n",
       "      <td>293370.000000</td>\n",
       "      <td>0.495437</td>\n",
       "      <td>38.826953</td>\n",
       "      <td>14.008960</td>\n",
       "      <td>1.219534</td>\n",
       "    </tr>\n",
       "    <tr>\n",
       "      <th>std</th>\n",
       "      <td>169377.681485</td>\n",
       "      <td>0.499980</td>\n",
       "      <td>46.305600</td>\n",
       "      <td>7.542275</td>\n",
       "      <td>1.559938</td>\n",
       "    </tr>\n",
       "    <tr>\n",
       "      <th>min</th>\n",
       "      <td>0.000000</td>\n",
       "      <td>0.000000</td>\n",
       "      <td>0.000000</td>\n",
       "      <td>6.000000</td>\n",
       "      <td>0.000000</td>\n",
       "    </tr>\n",
       "    <tr>\n",
       "      <th>25%</th>\n",
       "      <td>146685.000000</td>\n",
       "      <td>0.000000</td>\n",
       "      <td>0.000000</td>\n",
       "      <td>8.000000</td>\n",
       "      <td>0.000000</td>\n",
       "    </tr>\n",
       "    <tr>\n",
       "      <th>50%</th>\n",
       "      <td>293370.000000</td>\n",
       "      <td>0.000000</td>\n",
       "      <td>11.000000</td>\n",
       "      <td>12.000000</td>\n",
       "      <td>1.000000</td>\n",
       "    </tr>\n",
       "    <tr>\n",
       "      <th>75%</th>\n",
       "      <td>440055.000000</td>\n",
       "      <td>1.000000</td>\n",
       "      <td>99.000000</td>\n",
       "      <td>17.000000</td>\n",
       "      <td>2.000000</td>\n",
       "    </tr>\n",
       "    <tr>\n",
       "      <th>max</th>\n",
       "      <td>586740.000000</td>\n",
       "      <td>1.000000</td>\n",
       "      <td>99.000000</td>\n",
       "      <td>49.000000</td>\n",
       "      <td>14.000000</td>\n",
       "    </tr>\n",
       "  </tbody>\n",
       "</table>\n",
       "</div>"
      ],
      "text/plain": [
       "          Unnamed: 0        useType  processPattern  sentenceCount  \\\n",
       "count  586741.000000  586741.000000   586741.000000  586741.000000   \n",
       "mean   293370.000000       0.495437       38.826953      14.008960   \n",
       "std    169377.681485       0.499980       46.305600       7.542275   \n",
       "min         0.000000       0.000000        0.000000       6.000000   \n",
       "25%    146685.000000       0.000000        0.000000       8.000000   \n",
       "50%    293370.000000       0.000000       11.000000      12.000000   \n",
       "75%    440055.000000       1.000000       99.000000      17.000000   \n",
       "max    586740.000000       1.000000       99.000000      49.000000   \n",
       "\n",
       "       processSentencenum  \n",
       "count       295275.000000  \n",
       "mean             1.219534  \n",
       "std              1.559938  \n",
       "min              0.000000  \n",
       "25%              0.000000  \n",
       "50%              1.000000  \n",
       "75%              2.000000  \n",
       "max             14.000000  "
      ]
     },
     "execution_count": 7,
     "metadata": {},
     "output_type": "execute_result"
    }
   ],
   "source": [
    "df.describe()"
   ]
  },
  {
   "cell_type": "code",
   "execution_count": 8,
   "metadata": {},
   "outputs": [
    {
     "data": {
      "text/html": [
       "<div>\n",
       "<style scoped>\n",
       "    .dataframe tbody tr th:only-of-type {\n",
       "        vertical-align: middle;\n",
       "    }\n",
       "\n",
       "    .dataframe tbody tr th {\n",
       "        vertical-align: top;\n",
       "    }\n",
       "\n",
       "    .dataframe thead th {\n",
       "        text-align: right;\n",
       "    }\n",
       "</style>\n",
       "<table border=\"1\" class=\"dataframe\">\n",
       "  <thead>\n",
       "    <tr style=\"text-align: right;\">\n",
       "      <th></th>\n",
       "      <th>newsID</th>\n",
       "      <th>newsCategory</th>\n",
       "      <th>newsSubcategory</th>\n",
       "      <th>newsTitle</th>\n",
       "      <th>newsSubTitle</th>\n",
       "      <th>newsContent</th>\n",
       "      <th>partNum</th>\n",
       "      <th>processType</th>\n",
       "      <th>processLevel</th>\n",
       "      <th>sentenceInfo</th>\n",
       "    </tr>\n",
       "  </thead>\n",
       "  <tbody>\n",
       "    <tr>\n",
       "      <th>count</th>\n",
       "      <td>586741</td>\n",
       "      <td>586741</td>\n",
       "      <td>584926</td>\n",
       "      <td>586741</td>\n",
       "      <td>196809</td>\n",
       "      <td>586741</td>\n",
       "      <td>586741</td>\n",
       "      <td>586741</td>\n",
       "      <td>586741</td>\n",
       "      <td>586741</td>\n",
       "    </tr>\n",
       "    <tr>\n",
       "      <th>unique</th>\n",
       "      <td>586741</td>\n",
       "      <td>7</td>\n",
       "      <td>155</td>\n",
       "      <td>497160</td>\n",
       "      <td>165712</td>\n",
       "      <td>485545</td>\n",
       "      <td>2</td>\n",
       "      <td>2</td>\n",
       "      <td>3</td>\n",
       "      <td>485545</td>\n",
       "    </tr>\n",
       "    <tr>\n",
       "      <th>top</th>\n",
       "      <td>EC_M02_000001</td>\n",
       "      <td>사회</td>\n",
       "      <td>정치일반</td>\n",
       "      <td>[새로나온책] 인문·사회 外</td>\n",
       "      <td>코로나19 중앙재난안전대책본부 회의</td>\n",
       "      <td>응답하라 1988 류준열 혜리 응답하라(응팔) 1988 혜리 류준열 피앙세반지 고백...</td>\n",
       "      <td>P2</td>\n",
       "      <td>A</td>\n",
       "      <td>하</td>\n",
       "      <td>[{'sentenceNo': 1, 'sentenceContent': \"응답하라 19...</td>\n",
       "    </tr>\n",
       "    <tr>\n",
       "      <th>freq</th>\n",
       "      <td>1</td>\n",
       "      <td>116223</td>\n",
       "      <td>40867</td>\n",
       "      <td>43</td>\n",
       "      <td>71</td>\n",
       "      <td>43</td>\n",
       "      <td>295275</td>\n",
       "      <td>506526</td>\n",
       "      <td>536628</td>\n",
       "      <td>43</td>\n",
       "    </tr>\n",
       "  </tbody>\n",
       "</table>\n",
       "</div>"
      ],
      "text/plain": [
       "               newsID newsCategory newsSubcategory        newsTitle  \\\n",
       "count          586741       586741          584926           586741   \n",
       "unique         586741            7             155           497160   \n",
       "top     EC_M02_000001           사회            정치일반  [새로나온책] 인문·사회 外   \n",
       "freq                1       116223           40867               43   \n",
       "\n",
       "               newsSubTitle  \\\n",
       "count                196809   \n",
       "unique               165712   \n",
       "top     코로나19 중앙재난안전대책본부 회의   \n",
       "freq                     71   \n",
       "\n",
       "                                              newsContent partNum processType  \\\n",
       "count                                              586741  586741      586741   \n",
       "unique                                             485545       2           2   \n",
       "top     응답하라 1988 류준열 혜리 응답하라(응팔) 1988 혜리 류준열 피앙세반지 고백...      P2           A   \n",
       "freq                                                   43  295275      506526   \n",
       "\n",
       "       processLevel                                       sentenceInfo  \n",
       "count        586741                                             586741  \n",
       "unique            3                                             485545  \n",
       "top               하  [{'sentenceNo': 1, 'sentenceContent': \"응답하라 19...  \n",
       "freq         536628                                                 43  "
      ]
     },
     "execution_count": 8,
     "metadata": {},
     "output_type": "execute_result"
    }
   ],
   "source": [
    "df.describe(include='object')"
   ]
  },
  {
   "cell_type": "markdown",
   "metadata": {},
   "source": [
    "## newsContent 중복 제거"
   ]
  },
  {
   "cell_type": "code",
   "execution_count": 47,
   "metadata": {},
   "outputs": [
    {
     "data": {
      "text/html": [
       "<div>\n",
       "<style scoped>\n",
       "    .dataframe tbody tr th:only-of-type {\n",
       "        vertical-align: middle;\n",
       "    }\n",
       "\n",
       "    .dataframe tbody tr th {\n",
       "        vertical-align: top;\n",
       "    }\n",
       "\n",
       "    .dataframe thead th {\n",
       "        text-align: right;\n",
       "    }\n",
       "</style>\n",
       "<table border=\"1\" class=\"dataframe\">\n",
       "  <thead>\n",
       "    <tr style=\"text-align: right;\">\n",
       "      <th></th>\n",
       "      <th>newsContent</th>\n",
       "      <th>count</th>\n",
       "    </tr>\n",
       "  </thead>\n",
       "  <tbody>\n",
       "    <tr>\n",
       "      <th>0</th>\n",
       "      <td>응답하라 1988 류준열 혜리 응답하라(응팔) 1988 혜리 류준열 피앙세반지 고백...</td>\n",
       "      <td>43</td>\n",
       "    </tr>\n",
       "    <tr>\n",
       "      <th>1</th>\n",
       "      <td>SNL 이태임 예원 'SNL코리아6'에 출연한 배우 이태임이 화끈한 셀프 디스로 주...</td>\n",
       "      <td>40</td>\n",
       "    </tr>\n",
       "  </tbody>\n",
       "</table>\n",
       "</div>"
      ],
      "text/plain": [
       "                                         newsContent  count\n",
       "0  응답하라 1988 류준열 혜리 응답하라(응팔) 1988 혜리 류준열 피앙세반지 고백...     43\n",
       "1  SNL 이태임 예원 'SNL코리아6'에 출연한 배우 이태임이 화끈한 셀프 디스로 주...     40"
      ]
     },
     "execution_count": 47,
     "metadata": {},
     "output_type": "execute_result"
    }
   ],
   "source": [
    "# df[df['newsContent']!=]\n",
    "df_count = df['newsContent'].value_counts().reset_index()\n",
    "df_duplicate = df_count[df_count['count']!=1].copy()\n",
    "df_duplicate.head(2)"
   ]
  },
  {
   "cell_type": "code",
   "execution_count": 48,
   "metadata": {},
   "outputs": [
    {
     "data": {
      "text/plain": [
       "189892"
      ]
     },
     "execution_count": 48,
     "metadata": {},
     "output_type": "execute_result"
    }
   ],
   "source": [
    "# 제거할 rows 개수.\n",
    "sum(df_duplicate['count'])"
   ]
  },
  {
   "cell_type": "code",
   "execution_count": 49,
   "metadata": {},
   "outputs": [
    {
     "data": {
      "text/plain": [
       "88696"
      ]
     },
     "execution_count": 49,
     "metadata": {},
     "output_type": "execute_result"
    }
   ],
   "source": [
    "drop_rows = df_duplicate['newsContent'].tolist()\n",
    "len(drop_rows)"
   ]
  },
  {
   "cell_type": "code",
   "execution_count": 54,
   "metadata": {},
   "outputs": [
    {
     "data": {
      "text/plain": [
       "(396849, 15)"
      ]
     },
     "execution_count": 54,
     "metadata": {},
     "output_type": "execute_result"
    }
   ],
   "source": [
    "new_df = df[~df['newsContent'].isin(drop_rows)].copy()\n",
    "new_df.shape"
   ]
  },
  {
   "cell_type": "code",
   "execution_count": 55,
   "metadata": {},
   "outputs": [
    {
     "data": {
      "text/html": [
       "<div>\n",
       "<style scoped>\n",
       "    .dataframe tbody tr th:only-of-type {\n",
       "        vertical-align: middle;\n",
       "    }\n",
       "\n",
       "    .dataframe tbody tr th {\n",
       "        vertical-align: top;\n",
       "    }\n",
       "\n",
       "    .dataframe thead th {\n",
       "        text-align: right;\n",
       "    }\n",
       "</style>\n",
       "<table border=\"1\" class=\"dataframe\">\n",
       "  <thead>\n",
       "    <tr style=\"text-align: right;\">\n",
       "      <th></th>\n",
       "      <th>newsID</th>\n",
       "      <th>newsCategory</th>\n",
       "      <th>newsSubcategory</th>\n",
       "      <th>newsTitle</th>\n",
       "      <th>newsSubTitle</th>\n",
       "      <th>newsContent</th>\n",
       "      <th>partNum</th>\n",
       "      <th>processType</th>\n",
       "      <th>processLevel</th>\n",
       "      <th>sentenceInfo</th>\n",
       "    </tr>\n",
       "  </thead>\n",
       "  <tbody>\n",
       "    <tr>\n",
       "      <th>count</th>\n",
       "      <td>396849</td>\n",
       "      <td>396849</td>\n",
       "      <td>395640</td>\n",
       "      <td>396849</td>\n",
       "      <td>136480</td>\n",
       "      <td>396849</td>\n",
       "      <td>396849</td>\n",
       "      <td>396849</td>\n",
       "      <td>396849</td>\n",
       "      <td>396849</td>\n",
       "    </tr>\n",
       "    <tr>\n",
       "      <th>unique</th>\n",
       "      <td>396849</td>\n",
       "      <td>7</td>\n",
       "      <td>153</td>\n",
       "      <td>396206</td>\n",
       "      <td>135614</td>\n",
       "      <td>396849</td>\n",
       "      <td>2</td>\n",
       "      <td>2</td>\n",
       "      <td>3</td>\n",
       "      <td>396849</td>\n",
       "    </tr>\n",
       "    <tr>\n",
       "      <th>top</th>\n",
       "      <td>EC_M02_000001</td>\n",
       "      <td>사회</td>\n",
       "      <td>정치일반</td>\n",
       "      <td>[새로나온책] 인문·사회 外</td>\n",
       "      <td>홍석환 HR전략 컨설팅 대표</td>\n",
       "      <td>\\\"사죄한다.\\\" 운전기사들에게 허구한 날 폭언을 퍼부어 윤리 문제가 불거진 이장한...</td>\n",
       "      <td>P2</td>\n",
       "      <td>A</td>\n",
       "      <td>하</td>\n",
       "      <td>[{'sentenceNo': 1, 'sentenceContent': '\\\\\"사죄한다...</td>\n",
       "    </tr>\n",
       "    <tr>\n",
       "      <th>freq</th>\n",
       "      <td>1</td>\n",
       "      <td>81574</td>\n",
       "      <td>31444</td>\n",
       "      <td>25</td>\n",
       "      <td>63</td>\n",
       "      <td>1</td>\n",
       "      <td>199452</td>\n",
       "      <td>318821</td>\n",
       "      <td>348258</td>\n",
       "      <td>1</td>\n",
       "    </tr>\n",
       "  </tbody>\n",
       "</table>\n",
       "</div>"
      ],
      "text/plain": [
       "               newsID newsCategory newsSubcategory        newsTitle  \\\n",
       "count          396849       396849          395640           396849   \n",
       "unique         396849            7             153           396206   \n",
       "top     EC_M02_000001           사회            정치일반  [새로나온책] 인문·사회 外   \n",
       "freq                1        81574           31444               25   \n",
       "\n",
       "           newsSubTitle                                        newsContent  \\\n",
       "count            136480                                             396849   \n",
       "unique           135614                                             396849   \n",
       "top     홍석환 HR전략 컨설팅 대표  \\\"사죄한다.\\\" 운전기사들에게 허구한 날 폭언을 퍼부어 윤리 문제가 불거진 이장한...   \n",
       "freq                 63                                                  1   \n",
       "\n",
       "       partNum processType processLevel  \\\n",
       "count   396849      396849       396849   \n",
       "unique       2           2            3   \n",
       "top         P2           A            하   \n",
       "freq    199452      318821       348258   \n",
       "\n",
       "                                             sentenceInfo  \n",
       "count                                              396849  \n",
       "unique                                             396849  \n",
       "top     [{'sentenceNo': 1, 'sentenceContent': '\\\\\"사죄한다...  \n",
       "freq                                                    1  "
      ]
     },
     "execution_count": 55,
     "metadata": {},
     "output_type": "execute_result"
    }
   ],
   "source": [
    "new_df.describe(include='object')"
   ]
  },
  {
   "cell_type": "markdown",
   "metadata": {},
   "source": [
    "## newsTitle 중복 제거"
   ]
  },
  {
   "cell_type": "code",
   "execution_count": 56,
   "metadata": {},
   "outputs": [
    {
     "data": {
      "text/plain": [
       "396206"
      ]
     },
     "execution_count": 56,
     "metadata": {},
     "output_type": "execute_result"
    }
   ],
   "source": [
    "new_df['newsTitle'].nunique()"
   ]
  },
  {
   "cell_type": "code",
   "execution_count": null,
   "metadata": {},
   "outputs": [
    {
     "data": {
      "text/plain": [
       "1200"
      ]
     },
     "execution_count": 59,
     "metadata": {},
     "output_type": "execute_result"
    }
   ],
   "source": [
    "df_count = new_df['newsTitle'].value_counts().reset_index()\n",
    "df_duplicate = df_count[df_count['count']!=1]\n",
    "sum(df_duplicate['count'])"
   ]
  },
  {
   "cell_type": "code",
   "execution_count": 66,
   "metadata": {},
   "outputs": [
    {
     "data": {
      "text/plain": [
       "557"
      ]
     },
     "execution_count": 66,
     "metadata": {},
     "output_type": "execute_result"
    }
   ],
   "source": [
    "drop_rows = df_duplicate['newsTitle'].tolist()\n",
    "len(drop_rows)"
   ]
  },
  {
   "cell_type": "code",
   "execution_count": 67,
   "metadata": {},
   "outputs": [
    {
     "data": {
      "text/plain": [
       "(395649, 15)"
      ]
     },
     "execution_count": 67,
     "metadata": {},
     "output_type": "execute_result"
    }
   ],
   "source": [
    "df_new = new_df[~new_df['newsTitle'].isin(drop_rows)].copy()\n",
    "df_new.shape"
   ]
  },
  {
   "cell_type": "code",
   "execution_count": null,
   "metadata": {},
   "outputs": [
    {
     "data": {
      "text/plain": [
       "1200"
      ]
     },
     "execution_count": 68,
     "metadata": {},
     "output_type": "execute_result"
    }
   ],
   "source": [
    "396849 - 395649 # 잘 제거됨."
   ]
  },
  {
   "cell_type": "code",
   "execution_count": 72,
   "metadata": {},
   "outputs": [
    {
     "data": {
      "text/html": [
       "<div>\n",
       "<style scoped>\n",
       "    .dataframe tbody tr th:only-of-type {\n",
       "        vertical-align: middle;\n",
       "    }\n",
       "\n",
       "    .dataframe tbody tr th {\n",
       "        vertical-align: top;\n",
       "    }\n",
       "\n",
       "    .dataframe thead th {\n",
       "        text-align: right;\n",
       "    }\n",
       "</style>\n",
       "<table border=\"1\" class=\"dataframe\">\n",
       "  <thead>\n",
       "    <tr style=\"text-align: right;\">\n",
       "      <th></th>\n",
       "      <th>useType</th>\n",
       "      <th>processPattern</th>\n",
       "      <th>sentenceCount</th>\n",
       "    </tr>\n",
       "  </thead>\n",
       "  <tbody>\n",
       "    <tr>\n",
       "      <th>count</th>\n",
       "      <td>395649.000000</td>\n",
       "      <td>395649.000000</td>\n",
       "      <td>395649.000000</td>\n",
       "    </tr>\n",
       "    <tr>\n",
       "      <th>mean</th>\n",
       "      <td>0.284972</td>\n",
       "      <td>54.772430</td>\n",
       "      <td>14.157569</td>\n",
       "    </tr>\n",
       "    <tr>\n",
       "      <th>std</th>\n",
       "      <td>0.451402</td>\n",
       "      <td>46.327058</td>\n",
       "      <td>7.638933</td>\n",
       "    </tr>\n",
       "    <tr>\n",
       "      <th>min</th>\n",
       "      <td>0.000000</td>\n",
       "      <td>0.000000</td>\n",
       "      <td>6.000000</td>\n",
       "    </tr>\n",
       "    <tr>\n",
       "      <th>25%</th>\n",
       "      <td>0.000000</td>\n",
       "      <td>0.000000</td>\n",
       "      <td>8.000000</td>\n",
       "    </tr>\n",
       "    <tr>\n",
       "      <th>50%</th>\n",
       "      <td>0.000000</td>\n",
       "      <td>99.000000</td>\n",
       "      <td>12.000000</td>\n",
       "    </tr>\n",
       "    <tr>\n",
       "      <th>75%</th>\n",
       "      <td>1.000000</td>\n",
       "      <td>99.000000</td>\n",
       "      <td>18.000000</td>\n",
       "    </tr>\n",
       "    <tr>\n",
       "      <th>max</th>\n",
       "      <td>1.000000</td>\n",
       "      <td>99.000000</td>\n",
       "      <td>49.000000</td>\n",
       "    </tr>\n",
       "  </tbody>\n",
       "</table>\n",
       "</div>"
      ],
      "text/plain": [
       "             useType  processPattern  sentenceCount\n",
       "count  395649.000000   395649.000000  395649.000000\n",
       "mean        0.284972       54.772430      14.157569\n",
       "std         0.451402       46.327058       7.638933\n",
       "min         0.000000        0.000000       6.000000\n",
       "25%         0.000000        0.000000       8.000000\n",
       "50%         0.000000       99.000000      12.000000\n",
       "75%         1.000000       99.000000      18.000000\n",
       "max         1.000000       99.000000      49.000000"
      ]
     },
     "execution_count": 72,
     "metadata": {},
     "output_type": "execute_result"
    }
   ],
   "source": [
    "df_new[cols].describe()"
   ]
  },
  {
   "cell_type": "code",
   "execution_count": 70,
   "metadata": {},
   "outputs": [
    {
     "data": {
      "text/html": [
       "<div>\n",
       "<style scoped>\n",
       "    .dataframe tbody tr th:only-of-type {\n",
       "        vertical-align: middle;\n",
       "    }\n",
       "\n",
       "    .dataframe tbody tr th {\n",
       "        vertical-align: top;\n",
       "    }\n",
       "\n",
       "    .dataframe thead th {\n",
       "        text-align: right;\n",
       "    }\n",
       "</style>\n",
       "<table border=\"1\" class=\"dataframe\">\n",
       "  <thead>\n",
       "    <tr style=\"text-align: right;\">\n",
       "      <th></th>\n",
       "      <th>newsID</th>\n",
       "      <th>newsCategory</th>\n",
       "      <th>newsSubcategory</th>\n",
       "      <th>newsTitle</th>\n",
       "      <th>newsSubTitle</th>\n",
       "      <th>newsContent</th>\n",
       "      <th>partNum</th>\n",
       "      <th>processType</th>\n",
       "      <th>processLevel</th>\n",
       "      <th>sentenceInfo</th>\n",
       "    </tr>\n",
       "  </thead>\n",
       "  <tbody>\n",
       "    <tr>\n",
       "      <th>count</th>\n",
       "      <td>395649</td>\n",
       "      <td>395649</td>\n",
       "      <td>394441</td>\n",
       "      <td>395649</td>\n",
       "      <td>136226</td>\n",
       "      <td>395649</td>\n",
       "      <td>395649</td>\n",
       "      <td>395649</td>\n",
       "      <td>395649</td>\n",
       "      <td>395649</td>\n",
       "    </tr>\n",
       "    <tr>\n",
       "      <th>unique</th>\n",
       "      <td>395649</td>\n",
       "      <td>7</td>\n",
       "      <td>153</td>\n",
       "      <td>395649</td>\n",
       "      <td>135403</td>\n",
       "      <td>395649</td>\n",
       "      <td>2</td>\n",
       "      <td>2</td>\n",
       "      <td>3</td>\n",
       "      <td>395649</td>\n",
       "    </tr>\n",
       "    <tr>\n",
       "      <th>top</th>\n",
       "      <td>EC_M02_000001</td>\n",
       "      <td>사회</td>\n",
       "      <td>정치일반</td>\n",
       "      <td>[오늘의 SR이슈] 윤리 문제 불거진 종근당 회장 조사 마치고 귀가…\\\"사죄한다\\\"</td>\n",
       "      <td>홍석환 HR전략 컨설팅 대표</td>\n",
       "      <td>\\\"사죄한다.\\\" 운전기사들에게 허구한 날 폭언을 퍼부어 윤리 문제가 불거진 이장한...</td>\n",
       "      <td>P2</td>\n",
       "      <td>A</td>\n",
       "      <td>하</td>\n",
       "      <td>[{'sentenceNo': 1, 'sentenceContent': '\\\\\"사죄한다...</td>\n",
       "    </tr>\n",
       "    <tr>\n",
       "      <th>freq</th>\n",
       "      <td>1</td>\n",
       "      <td>81418</td>\n",
       "      <td>31407</td>\n",
       "      <td>1</td>\n",
       "      <td>61</td>\n",
       "      <td>1</td>\n",
       "      <td>198842</td>\n",
       "      <td>317801</td>\n",
       "      <td>347173</td>\n",
       "      <td>1</td>\n",
       "    </tr>\n",
       "  </tbody>\n",
       "</table>\n",
       "</div>"
      ],
      "text/plain": [
       "               newsID newsCategory newsSubcategory  \\\n",
       "count          395649       395649          394441   \n",
       "unique         395649            7             153   \n",
       "top     EC_M02_000001           사회            정치일반   \n",
       "freq                1        81418           31407   \n",
       "\n",
       "                                             newsTitle     newsSubTitle  \\\n",
       "count                                           395649           136226   \n",
       "unique                                          395649           135403   \n",
       "top     [오늘의 SR이슈] 윤리 문제 불거진 종근당 회장 조사 마치고 귀가…\\\"사죄한다\\\"  홍석환 HR전략 컨설팅 대표   \n",
       "freq                                                 1               61   \n",
       "\n",
       "                                              newsContent partNum processType  \\\n",
       "count                                              395649  395649      395649   \n",
       "unique                                             395649       2           2   \n",
       "top     \\\"사죄한다.\\\" 운전기사들에게 허구한 날 폭언을 퍼부어 윤리 문제가 불거진 이장한...      P2           A   \n",
       "freq                                                    1  198842      317801   \n",
       "\n",
       "       processLevel                                       sentenceInfo  \n",
       "count        395649                                             395649  \n",
       "unique            3                                             395649  \n",
       "top               하  [{'sentenceNo': 1, 'sentenceContent': '\\\\\"사죄한다...  \n",
       "freq         347173                                                  1  "
      ]
     },
     "execution_count": 70,
     "metadata": {},
     "output_type": "execute_result"
    }
   ],
   "source": [
    "df_new.describe(include='object')"
   ]
  },
  {
   "cell_type": "code",
   "execution_count": 74,
   "metadata": {},
   "outputs": [
    {
     "data": {
      "text/plain": [
       "(395649, 15)"
      ]
     },
     "execution_count": 74,
     "metadata": {},
     "output_type": "execute_result"
    }
   ],
   "source": [
    "df = df_new.copy()\n",
    "df.shape"
   ]
  },
  {
   "cell_type": "markdown",
   "metadata": {},
   "source": [
    "## null 가진 columns"
   ]
  },
  {
   "cell_type": "code",
   "execution_count": 76,
   "metadata": {},
   "outputs": [
    {
     "data": {
      "text/plain": [
       "['newsSubcategory', 'newsSubTitle']"
      ]
     },
     "execution_count": 76,
     "metadata": {},
     "output_type": "execute_result"
    }
   ],
   "source": [
    "has_null_cols = []\n",
    "for col in cols:\n",
    "    if df[col].count() != len(df) : has_null_cols.append(col)\n",
    "\n",
    "has_null_cols"
   ]
  },
  {
   "cell_type": "code",
   "execution_count": 77,
   "metadata": {},
   "outputs": [
    {
     "name": "stdout",
     "output_type": "stream",
     "text": [
      "newsSubcategory => 1208\n",
      "newsSubTitle => 259423\n"
     ]
    }
   ],
   "source": [
    "for col in has_null_cols:\n",
    "    print(f'{col} => {sum(df[col].isnull())}')"
   ]
  },
  {
   "cell_type": "code",
   "execution_count": 11,
   "metadata": {},
   "outputs": [
    {
     "data": {
      "text/plain": [
       "196809"
      ]
     },
     "execution_count": 11,
     "metadata": {},
     "output_type": "execute_result"
    }
   ],
   "source": [
    "len(df) - 389932"
   ]
  },
  {
   "cell_type": "markdown",
   "metadata": {},
   "source": [
    "## columns의 특정 값과 개수"
   ]
  },
  {
   "cell_type": "code",
   "execution_count": null,
   "metadata": {},
   "outputs": [
    {
     "data": {
      "text/plain": [
       "useType\n",
       "0    282900\n",
       "1    112749\n",
       "Name: count, dtype: int64"
      ]
     },
     "execution_count": 78,
     "metadata": {},
     "output_type": "execute_result"
    }
   ],
   "source": [
    "df['useType'].value_counts()"
   ]
  },
  {
   "cell_type": "code",
   "execution_count": 79,
   "metadata": {},
   "outputs": [
    {
     "data": {
      "text/plain": [
       "array(['A', 'D'], dtype=object)"
      ]
     },
     "execution_count": 79,
     "metadata": {},
     "output_type": "execute_result"
    }
   ],
   "source": [
    "df['processType'].unique() # 처리유형 (D <- 직접생성)"
   ]
  },
  {
   "cell_type": "code",
   "execution_count": 80,
   "metadata": {},
   "outputs": [
    {
     "data": {
      "text/plain": [
       "array([99, 16, 14, 11, 15, 13, 12,  0, 23, 24, 22, 21], dtype=int64)"
      ]
     },
     "execution_count": 80,
     "metadata": {},
     "output_type": "execute_result"
    }
   ],
   "source": [
    "df['processPattern'].unique() # 처리패턴 (22 <- 부동산 판매정보 노출 광고형)"
   ]
  },
  {
   "cell_type": "code",
   "execution_count": 81,
   "metadata": {},
   "outputs": [
    {
     "name": "stdout",
     "output_type": "stream",
     "text": [
      "49.74282760729839\n",
      "[nan  4.  1.  3.  2.  7.  6.  5.  8. 10. 12.  9. 11. 14. 13.  0.]\n"
     ]
    }
   ],
   "source": [
    "# 처리(가공)문장수\n",
    "print(sum(df['processSentencenum'].isnull()) / len(df) *100)\n",
    "print(df['processSentencenum'].unique())"
   ]
  },
  {
   "cell_type": "markdown",
   "metadata": {},
   "source": [
    "## real data 조정"
   ]
  },
  {
   "cell_type": "code",
   "execution_count": 188,
   "metadata": {},
   "outputs": [
    {
     "data": {
      "text/plain": [
       "((282900, 15), (112749, 15))"
      ]
     },
     "execution_count": 188,
     "metadata": {},
     "output_type": "execute_result"
    }
   ],
   "source": [
    "fake = df[df['useType']==0]\n",
    "real = df[df['useType']==1]\n",
    "fake.shape, real.shape"
   ]
  },
  {
   "cell_type": "code",
   "execution_count": 189,
   "metadata": {},
   "outputs": [
    {
     "data": {
      "text/plain": [
       "Index(['newsID', 'newsCategory', 'newsSubcategory', 'newsTitle',\n",
       "       'newsSubTitle', 'newsContent', 'partNum', 'useType', 'processType',\n",
       "       'processPattern', 'processLevel', 'sentenceCount', 'sentenceInfo'],\n",
       "      dtype='object')"
      ]
     },
     "execution_count": 189,
     "metadata": {},
     "output_type": "execute_result"
    }
   ],
   "source": [
    "cols"
   ]
  },
  {
   "cell_type": "code",
   "execution_count": 190,
   "metadata": {},
   "outputs": [
    {
     "data": {
      "text/plain": [
       "newsCategory\n",
       "사회       22433\n",
       "세계       17020\n",
       "경제       16548\n",
       "정치       16213\n",
       "IT&과학    15761\n",
       "생활&문화    13657\n",
       "연예       11117\n",
       "Name: count, dtype: int64"
      ]
     },
     "execution_count": 190,
     "metadata": {},
     "output_type": "execute_result"
    }
   ],
   "source": [
    "real['newsCategory'].value_counts()"
   ]
  },
  {
   "cell_type": "code",
   "execution_count": 191,
   "metadata": {},
   "outputs": [
    {
     "data": {
      "text/plain": [
       "['경제', '연예', '세계', 'IT&과학', '생활&문화', '정치', '사회']"
      ]
     },
     "execution_count": 191,
     "metadata": {},
     "output_type": "execute_result"
    }
   ],
   "source": [
    "cate_cols = df['newsCategory'].unique().tolist()\n",
    "cate_cols"
   ]
  },
  {
   "cell_type": "code",
   "execution_count": 192,
   "metadata": {},
   "outputs": [
    {
     "data": {
      "text/html": [
       "<div>\n",
       "<style scoped>\n",
       "    .dataframe tbody tr th:only-of-type {\n",
       "        vertical-align: middle;\n",
       "    }\n",
       "\n",
       "    .dataframe tbody tr th {\n",
       "        vertical-align: top;\n",
       "    }\n",
       "\n",
       "    .dataframe thead th {\n",
       "        text-align: right;\n",
       "    }\n",
       "</style>\n",
       "<table border=\"1\" class=\"dataframe\">\n",
       "  <thead>\n",
       "    <tr style=\"text-align: right;\">\n",
       "      <th></th>\n",
       "      <th>Unnamed: 0</th>\n",
       "      <th>newsID</th>\n",
       "      <th>newsCategory</th>\n",
       "      <th>newsSubcategory</th>\n",
       "      <th>newsTitle</th>\n",
       "      <th>newsSubTitle</th>\n",
       "      <th>newsContent</th>\n",
       "      <th>partNum</th>\n",
       "      <th>useType</th>\n",
       "      <th>processType</th>\n",
       "      <th>processPattern</th>\n",
       "      <th>processLevel</th>\n",
       "      <th>sentenceCount</th>\n",
       "      <th>sentenceInfo</th>\n",
       "      <th>processSentencenum</th>\n",
       "    </tr>\n",
       "  </thead>\n",
       "  <tbody>\n",
       "    <tr>\n",
       "      <th>0</th>\n",
       "      <td>0</td>\n",
       "      <td>EC_M02_000001</td>\n",
       "      <td>경제</td>\n",
       "      <td>일반</td>\n",
       "      <td>[오늘의 SR이슈] 윤리 문제 불거진 종근당 회장 조사 마치고 귀가…\\\"사죄한다\\\"</td>\n",
       "      <td>NaN</td>\n",
       "      <td>\\\"사죄한다.\\\" 운전기사들에게 허구한 날 폭언을 퍼부어 윤리 문제가 불거진 이장한...</td>\n",
       "      <td>P1</td>\n",
       "      <td>0</td>\n",
       "      <td>A</td>\n",
       "      <td>99</td>\n",
       "      <td>하</td>\n",
       "      <td>9</td>\n",
       "      <td>[{'sentenceNo': 1, 'sentenceContent': '\\\\\"사죄한다...</td>\n",
       "      <td>NaN</td>\n",
       "    </tr>\n",
       "    <tr>\n",
       "      <th>1</th>\n",
       "      <td>1</td>\n",
       "      <td>EC_M02_000006</td>\n",
       "      <td>경제</td>\n",
       "      <td>은행</td>\n",
       "      <td>한국기업지배구조원 733개 기업 ESG 등급 부여</td>\n",
       "      <td>NaN</td>\n",
       "      <td>한국기업지배구조원이 8월 31일 국내 상장회사의 환경경영(E), 사회책임경영(S),...</td>\n",
       "      <td>P1</td>\n",
       "      <td>0</td>\n",
       "      <td>A</td>\n",
       "      <td>99</td>\n",
       "      <td>하</td>\n",
       "      <td>13</td>\n",
       "      <td>[{'sentenceNo': 1, 'sentenceContent': '한국기업지배구...</td>\n",
       "      <td>NaN</td>\n",
       "    </tr>\n",
       "  </tbody>\n",
       "</table>\n",
       "</div>"
      ],
      "text/plain": [
       "   Unnamed: 0         newsID newsCategory newsSubcategory  \\\n",
       "0           0  EC_M02_000001           경제              일반   \n",
       "1           1  EC_M02_000006           경제              은행   \n",
       "\n",
       "                                        newsTitle newsSubTitle  \\\n",
       "0  [오늘의 SR이슈] 윤리 문제 불거진 종근당 회장 조사 마치고 귀가…\\\"사죄한다\\\"          NaN   \n",
       "1                     한국기업지배구조원 733개 기업 ESG 등급 부여          NaN   \n",
       "\n",
       "                                         newsContent partNum  useType  \\\n",
       "0  \\\"사죄한다.\\\" 운전기사들에게 허구한 날 폭언을 퍼부어 윤리 문제가 불거진 이장한...      P1        0   \n",
       "1  한국기업지배구조원이 8월 31일 국내 상장회사의 환경경영(E), 사회책임경영(S),...      P1        0   \n",
       "\n",
       "  processType  processPattern processLevel  sentenceCount  \\\n",
       "0           A              99            하              9   \n",
       "1           A              99            하             13   \n",
       "\n",
       "                                        sentenceInfo  processSentencenum  \n",
       "0  [{'sentenceNo': 1, 'sentenceContent': '\\\\\"사죄한다...                 NaN  \n",
       "1  [{'sentenceNo': 1, 'sentenceContent': '한국기업지배구...                 NaN  "
      ]
     },
     "execution_count": 192,
     "metadata": {},
     "output_type": "execute_result"
    }
   ],
   "source": [
    "new_fake = fake[:112749]\n",
    "new_fake.head(2)"
   ]
  },
  {
   "cell_type": "code",
   "execution_count": 194,
   "metadata": {},
   "outputs": [
    {
     "data": {
      "text/plain": [
       "newsCategory\n",
       "사회       21811\n",
       "경제       21311\n",
       "세계       16257\n",
       "연예       14939\n",
       "IT&과학    14698\n",
       "정치       14572\n",
       "생활&문화     9161\n",
       "Name: count, dtype: int64"
      ]
     },
     "execution_count": 194,
     "metadata": {},
     "output_type": "execute_result"
    }
   ],
   "source": [
    "new_fake['newsCategory'].value_counts()"
   ]
  },
  {
   "cell_type": "code",
   "execution_count": 195,
   "metadata": {},
   "outputs": [
    {
     "data": {
      "text/plain": [
       "((112749, 15), (112749, 15))"
      ]
     },
     "execution_count": 195,
     "metadata": {},
     "output_type": "execute_result"
    }
   ],
   "source": [
    "real.shape, new_fake.shape"
   ]
  },
  {
   "cell_type": "markdown",
   "metadata": {},
   "source": [
    "## 시각화"
   ]
  },
  {
   "cell_type": "code",
   "execution_count": 82,
   "metadata": {},
   "outputs": [],
   "source": [
    "import seaborn as sns\n",
    "import matplotlib.pyplot as plt\n",
    "import warnings\n",
    "warnings.filterwarnings('ignore')\n",
    "color = sns.color_palette('pastel')\n",
    "\n",
    "import koreanize_matplotlib\n",
    "# plt.legend(bbox_to_anchor=(1.05,1),loc=2,borderaxespad=0.)"
   ]
  },
  {
   "cell_type": "code",
   "execution_count": 83,
   "metadata": {},
   "outputs": [
    {
     "data": {
      "text/plain": [
       "Index(['newsID', 'newsCategory', 'newsSubcategory', 'newsTitle',\n",
       "       'newsSubTitle', 'newsContent', 'partNum', 'useType', 'processType',\n",
       "       'processPattern', 'processLevel', 'sentenceCount', 'sentenceInfo'],\n",
       "      dtype='object')"
      ]
     },
     "execution_count": 83,
     "metadata": {},
     "output_type": "execute_result"
    }
   ],
   "source": [
    "cols"
   ]
  },
  {
   "cell_type": "code",
   "execution_count": 84,
   "metadata": {},
   "outputs": [
    {
     "data": {
      "text/plain": [
       "array([[<Axes: title={'center': 'useType'}>,\n",
       "        <Axes: title={'center': 'processPattern'}>],\n",
       "       [<Axes: title={'center': 'sentenceCount'}>, <Axes: >]],\n",
       "      dtype=object)"
      ]
     },
     "execution_count": 84,
     "metadata": {},
     "output_type": "execute_result"
    },
    {
     "data": {
      "image/png": "[encoded data removed]",
      "text/plain": [
       "<Figure size 640x480 with 4 Axes>"
      ]
     },
     "metadata": {},
     "output_type": "display_data"
    }
   ],
   "source": [
    "df[cols].hist()"
   ]
  },
  {
   "cell_type": "code",
   "execution_count": 85,
   "metadata": {},
   "outputs": [
    {
     "data": {
      "text/plain": [
       "<Axes: xlabel='useType', ylabel='count'>"
      ]
     },
     "execution_count": 85,
     "metadata": {},
     "output_type": "execute_result"
    },
    {
     "data": {
      "image/png": "[encoded data removed]",
      "text/plain": [
       "<Figure size 640x480 with 1 Axes>"
      ]
     },
     "metadata": {},
     "output_type": "display_data"
    }
   ],
   "source": [
    "sns.countplot(data=df[cols], x='useType',palette=color)"
   ]
  },
  {
   "cell_type": "code",
   "execution_count": 94,
   "metadata": {},
   "outputs": [
    {
     "data": {
      "text/plain": [
       "<Axes: xlabel='newsCategory', ylabel='count'>"
      ]
     },
     "execution_count": 94,
     "metadata": {},
     "output_type": "execute_result"
    },
    {
     "data": {
      "image/png": "[encoded data removed]",
      "text/plain": [
       "<Figure size 640x480 with 1 Axes>"
      ]
     },
     "metadata": {},
     "output_type": "display_data"
    }
   ],
   "source": [
    "sns.countplot(data=df[cols], x='newsCategory', hue='useType',\n",
    "              order=df['newsCategory'].value_counts().index, palette=color)"
   ]
  },
  {
   "cell_type": "code",
   "execution_count": 196,
   "metadata": {},
   "outputs": [
    {
     "data": {
      "text/plain": [
       "(225498, 15)"
      ]
     },
     "execution_count": 196,
     "metadata": {},
     "output_type": "execute_result"
    }
   ],
   "source": [
    "dfconcat = pd.concat([new_fake, real], axis=0)\n",
    "dfconcat.shape"
   ]
  },
  {
   "cell_type": "code",
   "execution_count": 197,
   "metadata": {},
   "outputs": [
    {
     "data": {
      "text/plain": [
       "(112749, 112749)"
      ]
     },
     "execution_count": 197,
     "metadata": {},
     "output_type": "execute_result"
    }
   ],
   "source": [
    "len(new_fake), len(real)"
   ]
  },
  {
   "cell_type": "code",
   "execution_count": 198,
   "metadata": {},
   "outputs": [
    {
     "data": {
      "text/plain": [
       "<Axes: xlabel='newsCategory', ylabel='count'>"
      ]
     },
     "execution_count": 198,
     "metadata": {},
     "output_type": "execute_result"
    },
    {
     "data": {
      "image/png": "[encoded data removed]",
      "text/plain": [
       "<Figure size 640x480 with 1 Axes>"
      ]
     },
     "metadata": {},
     "output_type": "display_data"
    }
   ],
   "source": [
    "sns.countplot(data=dfconcat[cols], x='newsCategory', hue='useType',\n",
    "              order=dfconcat['newsCategory'].value_counts().index, palette=color)"
   ]
  },
  {
   "cell_type": "markdown",
   "metadata": {},
   "source": [
    "# Data Store"
   ]
  },
  {
   "cell_type": "code",
   "execution_count": 135,
   "metadata": {},
   "outputs": [],
   "source": [
    "dfconcat.to_csv(\"train.csv\")"
   ]
  },
  {
   "cell_type": "code",
   "execution_count": 137,
   "metadata": {},
   "outputs": [
    {
     "name": "stdout",
     "output_type": "stream",
     "text": [
      "<class 'pandas.core.frame.DataFrame'>\n",
      "RangeIndex: 225498 entries, 0 to 225497\n",
      "Data columns (total 16 columns):\n",
      " #   Column              Non-Null Count   Dtype  \n",
      "---  ------              --------------   -----  \n",
      " 0   Unnamed: 0.1        225498 non-null  int64  \n",
      " 1   Unnamed: 0          225498 non-null  int64  \n",
      " 2   newsID              225498 non-null  object \n",
      " 3   newsCategory        225498 non-null  object \n",
      " 4   newsSubcategory     224693 non-null  object \n",
      " 5   newsTitle           225498 non-null  object \n",
      " 6   newsSubTitle        87690 non-null   object \n",
      " 7   newsContent         225498 non-null  object \n",
      " 8   partNum             225498 non-null  object \n",
      " 9   useType             225498 non-null  int64  \n",
      " 10  processType         225498 non-null  object \n",
      " 11  processPattern      225498 non-null  int64  \n",
      " 12  processLevel        225498 non-null  object \n",
      " 13  sentenceCount       225498 non-null  int64  \n",
      " 14  sentenceInfo        225498 non-null  object \n",
      " 15  processSentencenum  56357 non-null   float64\n",
      "dtypes: float64(1), int64(5), object(10)\n",
      "memory usage: 27.5+ MB\n"
     ]
    }
   ],
   "source": [
    "train_data = pd.read_csv(\"train.csv\")\n",
    "train_data.info()"
   ]
  },
  {
   "cell_type": "code",
   "execution_count": null,
   "metadata": {},
   "outputs": [
    {
     "data": {
      "text/html": [
       "<div>\n",
       "<style scoped>\n",
       "    .dataframe tbody tr th:only-of-type {\n",
       "        vertical-align: middle;\n",
       "    }\n",
       "\n",
       "    .dataframe tbody tr th {\n",
       "        vertical-align: top;\n",
       "    }\n",
       "\n",
       "    .dataframe thead th {\n",
       "        text-align: right;\n",
       "    }\n",
       "</style>\n",
       "<table border=\"1\" class=\"dataframe\">\n",
       "  <thead>\n",
       "    <tr style=\"text-align: right;\">\n",
       "      <th></th>\n",
       "      <th>newsID</th>\n",
       "      <th>newsCategory</th>\n",
       "      <th>newsSubcategory</th>\n",
       "      <th>newsTitle</th>\n",
       "      <th>newsSubTitle</th>\n",
       "      <th>newsContent</th>\n",
       "      <th>partNum</th>\n",
       "      <th>processType</th>\n",
       "      <th>processLevel</th>\n",
       "      <th>sentenceInfo</th>\n",
       "    </tr>\n",
       "  </thead>\n",
       "  <tbody>\n",
       "    <tr>\n",
       "      <th>count</th>\n",
       "      <td>225498</td>\n",
       "      <td>225498</td>\n",
       "      <td>224693</td>\n",
       "      <td>225498</td>\n",
       "      <td>87690</td>\n",
       "      <td>225498</td>\n",
       "      <td>225498</td>\n",
       "      <td>225498</td>\n",
       "      <td>225498</td>\n",
       "      <td>225498</td>\n",
       "    </tr>\n",
       "    <tr>\n",
       "      <th>unique</th>\n",
       "      <td>225498</td>\n",
       "      <td>7</td>\n",
       "      <td>152</td>\n",
       "      <td>225498</td>\n",
       "      <td>87288</td>\n",
       "      <td>225498</td>\n",
       "      <td>2</td>\n",
       "      <td>2</td>\n",
       "      <td>3</td>\n",
       "      <td>225498</td>\n",
       "    </tr>\n",
       "    <tr>\n",
       "      <th>top</th>\n",
       "      <td>EC_M02_000001</td>\n",
       "      <td>사회</td>\n",
       "      <td>정치일반</td>\n",
       "      <td>[오늘의 SR이슈] 윤리 문제 불거진 종근당 회장 조사 마치고 귀가…\\\"사죄한다\\\"</td>\n",
       "      <td>코로나19 중앙재난안전대책본부 회의</td>\n",
       "      <td>\\\"사죄한다.\\\" 운전기사들에게 허구한 날 폭언을 퍼부어 윤리 문제가 불거진 이장한...</td>\n",
       "      <td>P1</td>\n",
       "      <td>A</td>\n",
       "      <td>하</td>\n",
       "      <td>[{'sentenceNo': 1, 'sentenceContent': '\\\\\"사죄한다...</td>\n",
       "    </tr>\n",
       "    <tr>\n",
       "      <th>freq</th>\n",
       "      <td>1</td>\n",
       "      <td>44244</td>\n",
       "      <td>14578</td>\n",
       "      <td>1</td>\n",
       "      <td>27</td>\n",
       "      <td>1</td>\n",
       "      <td>169141</td>\n",
       "      <td>214123</td>\n",
       "      <td>222756</td>\n",
       "      <td>1</td>\n",
       "    </tr>\n",
       "  </tbody>\n",
       "</table>\n",
       "</div>"
      ],
      "text/plain": [
       "               newsID newsCategory newsSubcategory  \\\n",
       "count          225498       225498          224693   \n",
       "unique         225498            7             152   \n",
       "top     EC_M02_000001           사회            정치일반   \n",
       "freq                1        44244           14578   \n",
       "\n",
       "                                             newsTitle         newsSubTitle  \\\n",
       "count                                           225498                87690   \n",
       "unique                                          225498                87288   \n",
       "top     [오늘의 SR이슈] 윤리 문제 불거진 종근당 회장 조사 마치고 귀가…\\\"사죄한다\\\"  코로나19 중앙재난안전대책본부 회의   \n",
       "freq                                                 1                   27   \n",
       "\n",
       "                                              newsContent partNum processType  \\\n",
       "count                                              225498  225498      225498   \n",
       "unique                                             225498       2           2   \n",
       "top     \\\"사죄한다.\\\" 운전기사들에게 허구한 날 폭언을 퍼부어 윤리 문제가 불거진 이장한...      P1           A   \n",
       "freq                                                    1  169141      214123   \n",
       "\n",
       "       processLevel                                       sentenceInfo  \n",
       "count        225498                                             225498  \n",
       "unique            3                                             225498  \n",
       "top               하  [{'sentenceNo': 1, 'sentenceContent': '\\\\\"사죄한다...  \n",
       "freq         222756                                                  1  "
      ]
     },
     "execution_count": 138,
     "metadata": {},
     "output_type": "execute_result"
    }
   ],
   "source": [
    "train_data.describe(include='object')"
   ]
  },
  {
   "cell_type": "markdown",
   "metadata": {},
   "source": [
    "# Validation Data"
   ]
  },
  {
   "cell_type": "code",
   "execution_count": 200,
   "metadata": {},
   "outputs": [
    {
     "data": {
      "text/html": [
       "<div>\n",
       "<style scoped>\n",
       "    .dataframe tbody tr th:only-of-type {\n",
       "        vertical-align: middle;\n",
       "    }\n",
       "\n",
       "    .dataframe tbody tr th {\n",
       "        vertical-align: top;\n",
       "    }\n",
       "\n",
       "    .dataframe thead th {\n",
       "        text-align: right;\n",
       "    }\n",
       "</style>\n",
       "<table border=\"1\" class=\"dataframe\">\n",
       "  <thead>\n",
       "    <tr style=\"text-align: right;\">\n",
       "      <th></th>\n",
       "      <th>Unnamed: 0</th>\n",
       "      <th>newsID</th>\n",
       "      <th>newsCategory</th>\n",
       "      <th>newsSubcategory</th>\n",
       "      <th>newsTitle</th>\n",
       "      <th>newsSubTitle</th>\n",
       "      <th>newsContent</th>\n",
       "      <th>partNum</th>\n",
       "      <th>useType</th>\n",
       "      <th>processType</th>\n",
       "      <th>processPattern</th>\n",
       "      <th>processLevel</th>\n",
       "      <th>sentenceCount</th>\n",
       "      <th>sentenceInfo</th>\n",
       "      <th>processSentencenum</th>\n",
       "    </tr>\n",
       "  </thead>\n",
       "  <tbody>\n",
       "    <tr>\n",
       "      <th>0</th>\n",
       "      <td>0</td>\n",
       "      <td>EC_M02_000005</td>\n",
       "      <td>경제</td>\n",
       "      <td>은행</td>\n",
       "      <td>최종구 금융위원장, 임팩트금융 정착 위해 정부 차원 기금 조성</td>\n",
       "      <td>NaN</td>\n",
       "      <td>최종구 금융위원회 위원장이 \\\"'임팩트금융(사회적금융)'의 안착 차원에서 정부가 직...</td>\n",
       "      <td>P1</td>\n",
       "      <td>0</td>\n",
       "      <td>A</td>\n",
       "      <td>99</td>\n",
       "      <td>하</td>\n",
       "      <td>13</td>\n",
       "      <td>[{'sentenceNo': 1, 'sentenceContent': '최종구 금융위...</td>\n",
       "      <td>NaN</td>\n",
       "    </tr>\n",
       "    <tr>\n",
       "      <th>1</th>\n",
       "      <td>1</td>\n",
       "      <td>EC_M02_000007</td>\n",
       "      <td>경제</td>\n",
       "      <td>산업</td>\n",
       "      <td>가을 맞아 더 활발한 기업 프로보노 활동</td>\n",
       "      <td>NaN</td>\n",
       "      <td>요즘 프로보노 형 사회 공헌 활동을 펴는 회사가 늘고 있다.\\n회사를 경영하거나 기...</td>\n",
       "      <td>P1</td>\n",
       "      <td>0</td>\n",
       "      <td>A</td>\n",
       "      <td>99</td>\n",
       "      <td>하</td>\n",
       "      <td>13</td>\n",
       "      <td>[{'sentenceNo': 1, 'sentenceContent': '요즘 프로보노...</td>\n",
       "      <td>NaN</td>\n",
       "    </tr>\n",
       "  </tbody>\n",
       "</table>\n",
       "</div>"
      ],
      "text/plain": [
       "   Unnamed: 0         newsID newsCategory newsSubcategory  \\\n",
       "0           0  EC_M02_000005           경제              은행   \n",
       "1           1  EC_M02_000007           경제              산업   \n",
       "\n",
       "                            newsTitle newsSubTitle  \\\n",
       "0  최종구 금융위원장, 임팩트금융 정착 위해 정부 차원 기금 조성          NaN   \n",
       "1              가을 맞아 더 활발한 기업 프로보노 활동          NaN   \n",
       "\n",
       "                                         newsContent partNum  useType  \\\n",
       "0  최종구 금융위원회 위원장이 \\\"'임팩트금융(사회적금융)'의 안착 차원에서 정부가 직...      P1        0   \n",
       "1  요즘 프로보노 형 사회 공헌 활동을 펴는 회사가 늘고 있다.\\n회사를 경영하거나 기...      P1        0   \n",
       "\n",
       "  processType  processPattern processLevel  sentenceCount  \\\n",
       "0           A              99            하             13   \n",
       "1           A              99            하             13   \n",
       "\n",
       "                                        sentenceInfo  processSentencenum  \n",
       "0  [{'sentenceNo': 1, 'sentenceContent': '최종구 금융위...                 NaN  \n",
       "1  [{'sentenceNo': 1, 'sentenceContent': '요즘 프로보노...                 NaN  "
      ]
     },
     "execution_count": 200,
     "metadata": {},
     "output_type": "execute_result"
    }
   ],
   "source": [
    "validation = pd.read_csv(\"validation.csv\")\n",
    "validation.head(2)"
   ]
  },
  {
   "cell_type": "markdown",
   "metadata": {},
   "source": [
    "## describe"
   ]
  },
  {
   "cell_type": "code",
   "execution_count": 201,
   "metadata": {},
   "outputs": [
    {
     "data": {
      "text/plain": [
       "(73344, 15)"
      ]
     },
     "execution_count": 201,
     "metadata": {},
     "output_type": "execute_result"
    }
   ],
   "source": [
    "validation.shape"
   ]
  },
  {
   "cell_type": "code",
   "execution_count": 205,
   "metadata": {},
   "outputs": [
    {
     "data": {
      "text/plain": [
       "useType\n",
       "0    37006\n",
       "1    36338\n",
       "Name: count, dtype: int64"
      ]
     },
     "execution_count": 205,
     "metadata": {},
     "output_type": "execute_result"
    }
   ],
   "source": [
    "validation['useType'].value_counts()"
   ]
  },
  {
   "cell_type": "code",
   "execution_count": 228,
   "metadata": {},
   "outputs": [
    {
     "data": {
      "text/html": [
       "<div>\n",
       "<style scoped>\n",
       "    .dataframe tbody tr th:only-of-type {\n",
       "        vertical-align: middle;\n",
       "    }\n",
       "\n",
       "    .dataframe tbody tr th {\n",
       "        vertical-align: top;\n",
       "    }\n",
       "\n",
       "    .dataframe thead th {\n",
       "        text-align: right;\n",
       "    }\n",
       "</style>\n",
       "<table border=\"1\" class=\"dataframe\">\n",
       "  <thead>\n",
       "    <tr style=\"text-align: right;\">\n",
       "      <th></th>\n",
       "      <th>Unnamed: 0</th>\n",
       "      <th>useType</th>\n",
       "      <th>processPattern</th>\n",
       "      <th>sentenceCount</th>\n",
       "      <th>processSentencenum</th>\n",
       "    </tr>\n",
       "  </thead>\n",
       "  <tbody>\n",
       "    <tr>\n",
       "      <th>count</th>\n",
       "      <td>73344.000000</td>\n",
       "      <td>73344.000000</td>\n",
       "      <td>73344.000000</td>\n",
       "      <td>73344.000000</td>\n",
       "      <td>36910.000000</td>\n",
       "    </tr>\n",
       "    <tr>\n",
       "      <th>mean</th>\n",
       "      <td>36671.500000</td>\n",
       "      <td>0.495446</td>\n",
       "      <td>38.830511</td>\n",
       "      <td>13.975117</td>\n",
       "      <td>1.223842</td>\n",
       "    </tr>\n",
       "    <tr>\n",
       "      <th>std</th>\n",
       "      <td>21172.733409</td>\n",
       "      <td>0.499983</td>\n",
       "      <td>46.303639</td>\n",
       "      <td>7.502784</td>\n",
       "      <td>1.565694</td>\n",
       "    </tr>\n",
       "    <tr>\n",
       "      <th>min</th>\n",
       "      <td>0.000000</td>\n",
       "      <td>0.000000</td>\n",
       "      <td>0.000000</td>\n",
       "      <td>6.000000</td>\n",
       "      <td>0.000000</td>\n",
       "    </tr>\n",
       "    <tr>\n",
       "      <th>25%</th>\n",
       "      <td>18335.750000</td>\n",
       "      <td>0.000000</td>\n",
       "      <td>0.000000</td>\n",
       "      <td>8.000000</td>\n",
       "      <td>0.000000</td>\n",
       "    </tr>\n",
       "    <tr>\n",
       "      <th>50%</th>\n",
       "      <td>36671.500000</td>\n",
       "      <td>0.000000</td>\n",
       "      <td>11.000000</td>\n",
       "      <td>12.000000</td>\n",
       "      <td>1.000000</td>\n",
       "    </tr>\n",
       "    <tr>\n",
       "      <th>75%</th>\n",
       "      <td>55007.250000</td>\n",
       "      <td>1.000000</td>\n",
       "      <td>99.000000</td>\n",
       "      <td>17.000000</td>\n",
       "      <td>2.000000</td>\n",
       "    </tr>\n",
       "    <tr>\n",
       "      <th>max</th>\n",
       "      <td>73343.000000</td>\n",
       "      <td>1.000000</td>\n",
       "      <td>99.000000</td>\n",
       "      <td>49.000000</td>\n",
       "      <td>13.000000</td>\n",
       "    </tr>\n",
       "  </tbody>\n",
       "</table>\n",
       "</div>"
      ],
      "text/plain": [
       "         Unnamed: 0       useType  processPattern  sentenceCount  \\\n",
       "count  73344.000000  73344.000000    73344.000000   73344.000000   \n",
       "mean   36671.500000      0.495446       38.830511      13.975117   \n",
       "std    21172.733409      0.499983       46.303639       7.502784   \n",
       "min        0.000000      0.000000        0.000000       6.000000   \n",
       "25%    18335.750000      0.000000        0.000000       8.000000   \n",
       "50%    36671.500000      0.000000       11.000000      12.000000   \n",
       "75%    55007.250000      1.000000       99.000000      17.000000   \n",
       "max    73343.000000      1.000000       99.000000      49.000000   \n",
       "\n",
       "       processSentencenum  \n",
       "count        36910.000000  \n",
       "mean             1.223842  \n",
       "std              1.565694  \n",
       "min              0.000000  \n",
       "25%              0.000000  \n",
       "50%              1.000000  \n",
       "75%              2.000000  \n",
       "max             13.000000  "
      ]
     },
     "execution_count": 228,
     "metadata": {},
     "output_type": "execute_result"
    }
   ],
   "source": [
    "validation.describe()"
   ]
  },
  {
   "cell_type": "code",
   "execution_count": 202,
   "metadata": {},
   "outputs": [
    {
     "data": {
      "text/html": [
       "<div>\n",
       "<style scoped>\n",
       "    .dataframe tbody tr th:only-of-type {\n",
       "        vertical-align: middle;\n",
       "    }\n",
       "\n",
       "    .dataframe tbody tr th {\n",
       "        vertical-align: top;\n",
       "    }\n",
       "\n",
       "    .dataframe thead th {\n",
       "        text-align: right;\n",
       "    }\n",
       "</style>\n",
       "<table border=\"1\" class=\"dataframe\">\n",
       "  <thead>\n",
       "    <tr style=\"text-align: right;\">\n",
       "      <th></th>\n",
       "      <th>newsID</th>\n",
       "      <th>newsCategory</th>\n",
       "      <th>newsSubcategory</th>\n",
       "      <th>newsTitle</th>\n",
       "      <th>newsSubTitle</th>\n",
       "      <th>newsContent</th>\n",
       "      <th>partNum</th>\n",
       "      <th>processType</th>\n",
       "      <th>processLevel</th>\n",
       "      <th>sentenceInfo</th>\n",
       "    </tr>\n",
       "  </thead>\n",
       "  <tbody>\n",
       "    <tr>\n",
       "      <th>count</th>\n",
       "      <td>73344</td>\n",
       "      <td>73344</td>\n",
       "      <td>73128</td>\n",
       "      <td>73344</td>\n",
       "      <td>24529</td>\n",
       "      <td>73344</td>\n",
       "      <td>73344</td>\n",
       "      <td>73344</td>\n",
       "      <td>73344</td>\n",
       "      <td>73344</td>\n",
       "    </tr>\n",
       "    <tr>\n",
       "      <th>unique</th>\n",
       "      <td>73344</td>\n",
       "      <td>7</td>\n",
       "      <td>147</td>\n",
       "      <td>71937</td>\n",
       "      <td>23987</td>\n",
       "      <td>71178</td>\n",
       "      <td>2</td>\n",
       "      <td>2</td>\n",
       "      <td>3</td>\n",
       "      <td>71178</td>\n",
       "    </tr>\n",
       "    <tr>\n",
       "      <th>top</th>\n",
       "      <td>EC_M02_000005</td>\n",
       "      <td>사회</td>\n",
       "      <td>정치일반</td>\n",
       "      <td>[새로나온책] 인문·사회 外</td>\n",
       "      <td>코로나19 중앙재난안전대책본부 회의</td>\n",
       "      <td>못먹는 감 산이와 매드클라운이 더블 싱글 앨범 '못먹는 감'을 18일 자정에 공개했...</td>\n",
       "      <td>P2</td>\n",
       "      <td>A</td>\n",
       "      <td>하</td>\n",
       "      <td>[{'sentenceNo': 1, 'sentenceContent': \"못먹는 감 산...</td>\n",
       "    </tr>\n",
       "    <tr>\n",
       "      <th>freq</th>\n",
       "      <td>1</td>\n",
       "      <td>14529</td>\n",
       "      <td>5138</td>\n",
       "      <td>3</td>\n",
       "      <td>8</td>\n",
       "      <td>8</td>\n",
       "      <td>36910</td>\n",
       "      <td>63317</td>\n",
       "      <td>67034</td>\n",
       "      <td>8</td>\n",
       "    </tr>\n",
       "  </tbody>\n",
       "</table>\n",
       "</div>"
      ],
      "text/plain": [
       "               newsID newsCategory newsSubcategory        newsTitle  \\\n",
       "count           73344        73344           73128            73344   \n",
       "unique          73344            7             147            71937   \n",
       "top     EC_M02_000005           사회            정치일반  [새로나온책] 인문·사회 外   \n",
       "freq                1        14529            5138                3   \n",
       "\n",
       "               newsSubTitle  \\\n",
       "count                 24529   \n",
       "unique                23987   \n",
       "top     코로나19 중앙재난안전대책본부 회의   \n",
       "freq                      8   \n",
       "\n",
       "                                              newsContent partNum processType  \\\n",
       "count                                               73344   73344       73344   \n",
       "unique                                              71178       2           2   \n",
       "top     못먹는 감 산이와 매드클라운이 더블 싱글 앨범 '못먹는 감'을 18일 자정에 공개했...      P2           A   \n",
       "freq                                                    8   36910       63317   \n",
       "\n",
       "       processLevel                                       sentenceInfo  \n",
       "count         73344                                              73344  \n",
       "unique            3                                              71178  \n",
       "top               하  [{'sentenceNo': 1, 'sentenceContent': \"못먹는 감 산...  \n",
       "freq          67034                                                  8  "
      ]
     },
     "execution_count": 202,
     "metadata": {},
     "output_type": "execute_result"
    }
   ],
   "source": [
    "validation.describe(include='object')"
   ]
  },
  {
   "cell_type": "markdown",
   "metadata": {},
   "source": [
    "## 제목 내용 중복에서 다른 feature 찾기"
   ]
  },
  {
   "cell_type": "code",
   "execution_count": 207,
   "metadata": {},
   "outputs": [
    {
     "data": {
      "text/plain": [
       "(1381, 3)"
      ]
     },
     "execution_count": 207,
     "metadata": {},
     "output_type": "execute_result"
    }
   ],
   "source": [
    "a = validation[['newsTitle','newsContent']].value_counts().reset_index()\n",
    "new_val1 = a[a['count']!=1]\n",
    "new_val1.shape"
   ]
  },
  {
   "cell_type": "code",
   "execution_count": 208,
   "metadata": {},
   "outputs": [
    {
     "data": {
      "text/plain": [
       "(462, 4)"
      ]
     },
     "execution_count": 208,
     "metadata": {},
     "output_type": "execute_result"
    }
   ],
   "source": [
    "b = validation[['newsTitle','newsSubTitle','newsContent']].value_counts().reset_index()\n",
    "new_val2 = b[b['count']!=1]\n",
    "new_val2.shape"
   ]
  },
  {
   "cell_type": "code",
   "execution_count": 209,
   "metadata": {},
   "outputs": [
    {
     "data": {
      "text/html": [
       "<div>\n",
       "<style scoped>\n",
       "    .dataframe tbody tr th:only-of-type {\n",
       "        vertical-align: middle;\n",
       "    }\n",
       "\n",
       "    .dataframe tbody tr th {\n",
       "        vertical-align: top;\n",
       "    }\n",
       "\n",
       "    .dataframe thead th {\n",
       "        text-align: right;\n",
       "    }\n",
       "</style>\n",
       "<table border=\"1\" class=\"dataframe\">\n",
       "  <thead>\n",
       "    <tr style=\"text-align: right;\">\n",
       "      <th></th>\n",
       "      <th>newsTitle</th>\n",
       "      <th>newsContent</th>\n",
       "      <th>count</th>\n",
       "    </tr>\n",
       "  </thead>\n",
       "  <tbody>\n",
       "    <tr>\n",
       "      <th>0</th>\n",
       "      <td>진짜사나이 이이경 \\\"제작진에게 사과 받아…정말 괜찮아요\\\" 무슨일?</td>\n",
       "      <td>진짜사나이 이이경 \\\"제작진에게 사과 받아…정말 괜찮아요\\\" 진짜사나이 이이경 진짜...</td>\n",
       "      <td>3</td>\n",
       "    </tr>\n",
       "    <tr>\n",
       "      <th>1</th>\n",
       "      <td>박기영, 변호사 남편과 결혼 5년 만에 파경 '6번의 이별 극복했지만…'</td>\n",
       "      <td>박기영, 변호사 전남편과 결혼 5년만에 파경 \\\"오랜시간 불화로…\\\" 가수 박기영의...</td>\n",
       "      <td>3</td>\n",
       "    </tr>\n",
       "  </tbody>\n",
       "</table>\n",
       "</div>"
      ],
      "text/plain": [
       "                                  newsTitle  \\\n",
       "0    진짜사나이 이이경 \\\"제작진에게 사과 받아…정말 괜찮아요\\\" 무슨일?   \n",
       "1  박기영, 변호사 남편과 결혼 5년 만에 파경 '6번의 이별 극복했지만…'   \n",
       "\n",
       "                                         newsContent  count  \n",
       "0  진짜사나이 이이경 \\\"제작진에게 사과 받아…정말 괜찮아요\\\" 진짜사나이 이이경 진짜...      3  \n",
       "1  박기영, 변호사 전남편과 결혼 5년만에 파경 \\\"오랜시간 불화로…\\\" 가수 박기영의...      3  "
      ]
     },
     "execution_count": 209,
     "metadata": {},
     "output_type": "execute_result"
    }
   ],
   "source": [
    "new_val1.head(2)"
   ]
  },
  {
   "cell_type": "code",
   "execution_count": 210,
   "metadata": {},
   "outputs": [
    {
     "data": {
      "text/html": [
       "<div>\n",
       "<style scoped>\n",
       "    .dataframe tbody tr th:only-of-type {\n",
       "        vertical-align: middle;\n",
       "    }\n",
       "\n",
       "    .dataframe tbody tr th {\n",
       "        vertical-align: top;\n",
       "    }\n",
       "\n",
       "    .dataframe thead th {\n",
       "        text-align: right;\n",
       "    }\n",
       "</style>\n",
       "<table border=\"1\" class=\"dataframe\">\n",
       "  <thead>\n",
       "    <tr style=\"text-align: right;\">\n",
       "      <th></th>\n",
       "      <th>Unnamed: 0</th>\n",
       "      <th>newsID</th>\n",
       "      <th>newsCategory</th>\n",
       "      <th>newsSubcategory</th>\n",
       "      <th>newsTitle</th>\n",
       "      <th>newsSubTitle</th>\n",
       "      <th>newsContent</th>\n",
       "      <th>partNum</th>\n",
       "      <th>useType</th>\n",
       "      <th>processType</th>\n",
       "      <th>processPattern</th>\n",
       "      <th>processLevel</th>\n",
       "      <th>sentenceCount</th>\n",
       "      <th>sentenceInfo</th>\n",
       "      <th>processSentencenum</th>\n",
       "    </tr>\n",
       "  </thead>\n",
       "  <tbody>\n",
       "    <tr>\n",
       "      <th>21110</th>\n",
       "      <td>21110</td>\n",
       "      <td>ET_M03_279535</td>\n",
       "      <td>연예</td>\n",
       "      <td>연예가화제</td>\n",
       "      <td>박기영, 변호사 남편과 결혼 5년 만에 파경 '6번의 이별 극복했지만…'</td>\n",
       "      <td>NaN</td>\n",
       "      <td>박기영, 변호사 전남편과 결혼 5년만에 파경 \\\"오랜시간 불화로…\\\" 가수 박기영의...</td>\n",
       "      <td>P1</td>\n",
       "      <td>1</td>\n",
       "      <td>A</td>\n",
       "      <td>0</td>\n",
       "      <td>하</td>\n",
       "      <td>10</td>\n",
       "      <td>[{'sentenceNo': 1, 'sentenceContent': '박기영, 변호...</td>\n",
       "      <td>NaN</td>\n",
       "    </tr>\n",
       "    <tr>\n",
       "      <th>21114</th>\n",
       "      <td>21114</td>\n",
       "      <td>ET_M03_279553</td>\n",
       "      <td>연예</td>\n",
       "      <td>연예가화제</td>\n",
       "      <td>박기영, 변호사 남편과 결혼 5년 만에 파경 '6번의 이별 극복했지만…'</td>\n",
       "      <td>NaN</td>\n",
       "      <td>박기영, 변호사 전남편과 결혼 5년만에 파경 \\\"오랜시간 불화로…\\\" 가수 박기영의...</td>\n",
       "      <td>P1</td>\n",
       "      <td>1</td>\n",
       "      <td>A</td>\n",
       "      <td>0</td>\n",
       "      <td>하</td>\n",
       "      <td>10</td>\n",
       "      <td>[{'sentenceNo': 1, 'sentenceContent': '박기영, 변호...</td>\n",
       "      <td>NaN</td>\n",
       "    </tr>\n",
       "    <tr>\n",
       "      <th>58020</th>\n",
       "      <td>58020</td>\n",
       "      <td>ET_M03_739491</td>\n",
       "      <td>연예</td>\n",
       "      <td>연예가화제</td>\n",
       "      <td>박기영, 변호사 남편과 결혼 5년 만에 파경 '6번의 이별 극복했지만…'</td>\n",
       "      <td>NaN</td>\n",
       "      <td>박기영, 변호사 전남편과 결혼 5년만에 파경 \\\"오랜시간 불화로…\\\" 가수 박기영의...</td>\n",
       "      <td>P2</td>\n",
       "      <td>1</td>\n",
       "      <td>A</td>\n",
       "      <td>0</td>\n",
       "      <td>하</td>\n",
       "      <td>10</td>\n",
       "      <td>[{'sentenceNo': 1, 'sentenceContent': '박기영, 변호...</td>\n",
       "      <td>0.0</td>\n",
       "    </tr>\n",
       "    <tr>\n",
       "      <th>58021</th>\n",
       "      <td>58021</td>\n",
       "      <td>ET_M03_739500</td>\n",
       "      <td>연예</td>\n",
       "      <td>연예가화제</td>\n",
       "      <td>박기영, 변호사 남편과 결혼 5년 만에 파경 \\\"결혼전 시아버지 반대 있었다\\\"</td>\n",
       "      <td>NaN</td>\n",
       "      <td>박기영, 변호사 전남편과 결혼 5년만에 파경 \\\"오랜시간 불화로…\\\" 가수 박기영의...</td>\n",
       "      <td>P2</td>\n",
       "      <td>1</td>\n",
       "      <td>A</td>\n",
       "      <td>0</td>\n",
       "      <td>하</td>\n",
       "      <td>10</td>\n",
       "      <td>[{'sentenceNo': 1, 'sentenceContent': '박기영, 변호...</td>\n",
       "      <td>0.0</td>\n",
       "    </tr>\n",
       "  </tbody>\n",
       "</table>\n",
       "</div>"
      ],
      "text/plain": [
       "       Unnamed: 0         newsID newsCategory newsSubcategory  \\\n",
       "21110       21110  ET_M03_279535           연예           연예가화제   \n",
       "21114       21114  ET_M03_279553           연예           연예가화제   \n",
       "58020       58020  ET_M03_739491           연예           연예가화제   \n",
       "58021       58021  ET_M03_739500           연예           연예가화제   \n",
       "\n",
       "                                          newsTitle newsSubTitle  \\\n",
       "21110      박기영, 변호사 남편과 결혼 5년 만에 파경 '6번의 이별 극복했지만…'          NaN   \n",
       "21114      박기영, 변호사 남편과 결혼 5년 만에 파경 '6번의 이별 극복했지만…'          NaN   \n",
       "58020      박기영, 변호사 남편과 결혼 5년 만에 파경 '6번의 이별 극복했지만…'          NaN   \n",
       "58021  박기영, 변호사 남편과 결혼 5년 만에 파경 \\\"결혼전 시아버지 반대 있었다\\\"          NaN   \n",
       "\n",
       "                                             newsContent partNum  useType  \\\n",
       "21110  박기영, 변호사 전남편과 결혼 5년만에 파경 \\\"오랜시간 불화로…\\\" 가수 박기영의...      P1        1   \n",
       "21114  박기영, 변호사 전남편과 결혼 5년만에 파경 \\\"오랜시간 불화로…\\\" 가수 박기영의...      P1        1   \n",
       "58020  박기영, 변호사 전남편과 결혼 5년만에 파경 \\\"오랜시간 불화로…\\\" 가수 박기영의...      P2        1   \n",
       "58021  박기영, 변호사 전남편과 결혼 5년만에 파경 \\\"오랜시간 불화로…\\\" 가수 박기영의...      P2        1   \n",
       "\n",
       "      processType  processPattern processLevel  sentenceCount  \\\n",
       "21110           A               0            하             10   \n",
       "21114           A               0            하             10   \n",
       "58020           A               0            하             10   \n",
       "58021           A               0            하             10   \n",
       "\n",
       "                                            sentenceInfo  processSentencenum  \n",
       "21110  [{'sentenceNo': 1, 'sentenceContent': '박기영, 변호...                 NaN  \n",
       "21114  [{'sentenceNo': 1, 'sentenceContent': '박기영, 변호...                 NaN  \n",
       "58020  [{'sentenceNo': 1, 'sentenceContent': '박기영, 변호...                 0.0  \n",
       "58021  [{'sentenceNo': 1, 'sentenceContent': '박기영, 변호...                 0.0  "
      ]
     },
     "execution_count": 210,
     "metadata": {},
     "output_type": "execute_result"
    }
   ],
   "source": [
    "validation[validation['newsTitle'].str.startswith(\"박기영, 변호사 남편과 결혼 5년 만에 파경 \")]\n",
    "# => partNum이 다름. 내용, 제목 중복 제거 필요."
   ]
  },
  {
   "cell_type": "markdown",
   "metadata": {},
   "source": [
    "## newsContent 중복 제거"
   ]
  },
  {
   "cell_type": "code",
   "execution_count": 215,
   "metadata": {},
   "outputs": [
    {
     "data": {
      "text/plain": [
       "(69321, 15)"
      ]
     },
     "execution_count": 215,
     "metadata": {},
     "output_type": "execute_result"
    }
   ],
   "source": [
    "df_count = validation['newsContent'].value_counts().reset_index()\n",
    "df_duplicate = df_count[df_count['count']!=1].copy()\n",
    "\n",
    "new_val = validation[~validation['newsContent'].isin(df_duplicate['newsContent'].tolist())].copy()\n",
    "new_val.shape"
   ]
  },
  {
   "cell_type": "code",
   "execution_count": 219,
   "metadata": {},
   "outputs": [
    {
     "name": "stdout",
     "output_type": "stream",
     "text": [
      "1857 4023\n"
     ]
    },
    {
     "data": {
      "text/plain": [
       "69321"
      ]
     },
     "execution_count": 219,
     "metadata": {},
     "output_type": "execute_result"
    }
   ],
   "source": [
    "print(len(df_duplicate), sum(df_duplicate['count']))\n",
    "73344 - 4023"
   ]
  },
  {
   "cell_type": "code",
   "execution_count": 220,
   "metadata": {},
   "outputs": [
    {
     "data": {
      "text/html": [
       "<div>\n",
       "<style scoped>\n",
       "    .dataframe tbody tr th:only-of-type {\n",
       "        vertical-align: middle;\n",
       "    }\n",
       "\n",
       "    .dataframe tbody tr th {\n",
       "        vertical-align: top;\n",
       "    }\n",
       "\n",
       "    .dataframe thead th {\n",
       "        text-align: right;\n",
       "    }\n",
       "</style>\n",
       "<table border=\"1\" class=\"dataframe\">\n",
       "  <thead>\n",
       "    <tr style=\"text-align: right;\">\n",
       "      <th></th>\n",
       "      <th>newsID</th>\n",
       "      <th>newsCategory</th>\n",
       "      <th>newsSubcategory</th>\n",
       "      <th>newsTitle</th>\n",
       "      <th>newsSubTitle</th>\n",
       "      <th>newsContent</th>\n",
       "      <th>partNum</th>\n",
       "      <th>processType</th>\n",
       "      <th>processLevel</th>\n",
       "      <th>sentenceInfo</th>\n",
       "    </tr>\n",
       "  </thead>\n",
       "  <tbody>\n",
       "    <tr>\n",
       "      <th>count</th>\n",
       "      <td>69321</td>\n",
       "      <td>69321</td>\n",
       "      <td>69111</td>\n",
       "      <td>69321</td>\n",
       "      <td>23586</td>\n",
       "      <td>69321</td>\n",
       "      <td>69321</td>\n",
       "      <td>69321</td>\n",
       "      <td>69321</td>\n",
       "      <td>69321</td>\n",
       "    </tr>\n",
       "    <tr>\n",
       "      <th>unique</th>\n",
       "      <td>69321</td>\n",
       "      <td>7</td>\n",
       "      <td>147</td>\n",
       "      <td>69300</td>\n",
       "      <td>23511</td>\n",
       "      <td>69321</td>\n",
       "      <td>2</td>\n",
       "      <td>2</td>\n",
       "      <td>3</td>\n",
       "      <td>69321</td>\n",
       "    </tr>\n",
       "    <tr>\n",
       "      <th>top</th>\n",
       "      <td>EC_M02_000005</td>\n",
       "      <td>사회</td>\n",
       "      <td>정치일반</td>\n",
       "      <td>[새로나온책] 인문·사회 外</td>\n",
       "      <td>코로나19 중앙재난안전대책본부 회의</td>\n",
       "      <td>최종구 금융위원회 위원장이 \\\"'임팩트금융(사회적금융)'의 안착 차원에서 정부가 직...</td>\n",
       "      <td>P2</td>\n",
       "      <td>A</td>\n",
       "      <td>하</td>\n",
       "      <td>[{'sentenceNo': 1, 'sentenceContent': '최종구 금융위...</td>\n",
       "    </tr>\n",
       "    <tr>\n",
       "      <th>freq</th>\n",
       "      <td>1</td>\n",
       "      <td>14028</td>\n",
       "      <td>5000</td>\n",
       "      <td>3</td>\n",
       "      <td>8</td>\n",
       "      <td>1</td>\n",
       "      <td>34882</td>\n",
       "      <td>59401</td>\n",
       "      <td>63078</td>\n",
       "      <td>1</td>\n",
       "    </tr>\n",
       "  </tbody>\n",
       "</table>\n",
       "</div>"
      ],
      "text/plain": [
       "               newsID newsCategory newsSubcategory        newsTitle  \\\n",
       "count           69321        69321           69111            69321   \n",
       "unique          69321            7             147            69300   \n",
       "top     EC_M02_000005           사회            정치일반  [새로나온책] 인문·사회 外   \n",
       "freq                1        14028            5000                3   \n",
       "\n",
       "               newsSubTitle  \\\n",
       "count                 23586   \n",
       "unique                23511   \n",
       "top     코로나19 중앙재난안전대책본부 회의   \n",
       "freq                      8   \n",
       "\n",
       "                                              newsContent partNum processType  \\\n",
       "count                                               69321   69321       69321   \n",
       "unique                                              69321       2           2   \n",
       "top     최종구 금융위원회 위원장이 \\\"'임팩트금융(사회적금융)'의 안착 차원에서 정부가 직...      P2           A   \n",
       "freq                                                    1   34882       59401   \n",
       "\n",
       "       processLevel                                       sentenceInfo  \n",
       "count         69321                                              69321  \n",
       "unique            3                                              69321  \n",
       "top               하  [{'sentenceNo': 1, 'sentenceContent': '최종구 금융위...  \n",
       "freq          63078                                                  1  "
      ]
     },
     "execution_count": 220,
     "metadata": {},
     "output_type": "execute_result"
    }
   ],
   "source": [
    "new_val.describe(include=\"object\")"
   ]
  },
  {
   "cell_type": "markdown",
   "metadata": {},
   "source": [
    "## newsTitle 중복 제거"
   ]
  },
  {
   "cell_type": "code",
   "execution_count": 221,
   "metadata": {},
   "outputs": [
    {
     "data": {
      "text/plain": [
       "(69280, 15)"
      ]
     },
     "execution_count": 221,
     "metadata": {},
     "output_type": "execute_result"
    }
   ],
   "source": [
    "df_count = new_val['newsTitle'].value_counts().reset_index()\n",
    "df_duplicate = df_count[df_count['count']!=1].copy()\n",
    "\n",
    "new_val = new_val[~new_val['newsTitle'].isin(df_duplicate['newsTitle'].tolist())].copy()\n",
    "new_val.shape"
   ]
  },
  {
   "cell_type": "code",
   "execution_count": 224,
   "metadata": {},
   "outputs": [
    {
     "name": "stdout",
     "output_type": "stream",
     "text": [
      "20 41\n"
     ]
    },
    {
     "data": {
      "text/plain": [
       "69280"
      ]
     },
     "execution_count": 224,
     "metadata": {},
     "output_type": "execute_result"
    }
   ],
   "source": [
    "print(len(df_duplicate), sum(df_duplicate['count']))\n",
    "69321 - 41"
   ]
  },
  {
   "cell_type": "code",
   "execution_count": 225,
   "metadata": {},
   "outputs": [
    {
     "data": {
      "text/html": [
       "<div>\n",
       "<style scoped>\n",
       "    .dataframe tbody tr th:only-of-type {\n",
       "        vertical-align: middle;\n",
       "    }\n",
       "\n",
       "    .dataframe tbody tr th {\n",
       "        vertical-align: top;\n",
       "    }\n",
       "\n",
       "    .dataframe thead th {\n",
       "        text-align: right;\n",
       "    }\n",
       "</style>\n",
       "<table border=\"1\" class=\"dataframe\">\n",
       "  <thead>\n",
       "    <tr style=\"text-align: right;\">\n",
       "      <th></th>\n",
       "      <th>newsID</th>\n",
       "      <th>newsCategory</th>\n",
       "      <th>newsSubcategory</th>\n",
       "      <th>newsTitle</th>\n",
       "      <th>newsSubTitle</th>\n",
       "      <th>newsContent</th>\n",
       "      <th>partNum</th>\n",
       "      <th>processType</th>\n",
       "      <th>processLevel</th>\n",
       "      <th>sentenceInfo</th>\n",
       "    </tr>\n",
       "  </thead>\n",
       "  <tbody>\n",
       "    <tr>\n",
       "      <th>count</th>\n",
       "      <td>69280</td>\n",
       "      <td>69280</td>\n",
       "      <td>69070</td>\n",
       "      <td>69280</td>\n",
       "      <td>23577</td>\n",
       "      <td>69280</td>\n",
       "      <td>69280</td>\n",
       "      <td>69280</td>\n",
       "      <td>69280</td>\n",
       "      <td>69280</td>\n",
       "    </tr>\n",
       "    <tr>\n",
       "      <th>unique</th>\n",
       "      <td>69280</td>\n",
       "      <td>7</td>\n",
       "      <td>147</td>\n",
       "      <td>69280</td>\n",
       "      <td>23505</td>\n",
       "      <td>69280</td>\n",
       "      <td>2</td>\n",
       "      <td>2</td>\n",
       "      <td>3</td>\n",
       "      <td>69280</td>\n",
       "    </tr>\n",
       "    <tr>\n",
       "      <th>top</th>\n",
       "      <td>EC_M02_000005</td>\n",
       "      <td>사회</td>\n",
       "      <td>정치일반</td>\n",
       "      <td>최종구 금융위원장, 임팩트금융 정착 위해 정부 차원 기금 조성</td>\n",
       "      <td>코로나19 중앙재난안전대책본부 회의</td>\n",
       "      <td>최종구 금융위원회 위원장이 \\\"'임팩트금융(사회적금융)'의 안착 차원에서 정부가 직...</td>\n",
       "      <td>P2</td>\n",
       "      <td>A</td>\n",
       "      <td>하</td>\n",
       "      <td>[{'sentenceNo': 1, 'sentenceContent': '최종구 금융위...</td>\n",
       "    </tr>\n",
       "    <tr>\n",
       "      <th>freq</th>\n",
       "      <td>1</td>\n",
       "      <td>14027</td>\n",
       "      <td>5000</td>\n",
       "      <td>1</td>\n",
       "      <td>8</td>\n",
       "      <td>1</td>\n",
       "      <td>34862</td>\n",
       "      <td>59365</td>\n",
       "      <td>63041</td>\n",
       "      <td>1</td>\n",
       "    </tr>\n",
       "  </tbody>\n",
       "</table>\n",
       "</div>"
      ],
      "text/plain": [
       "               newsID newsCategory newsSubcategory  \\\n",
       "count           69280        69280           69070   \n",
       "unique          69280            7             147   \n",
       "top     EC_M02_000005           사회            정치일반   \n",
       "freq                1        14027            5000   \n",
       "\n",
       "                                 newsTitle         newsSubTitle  \\\n",
       "count                                69280                23577   \n",
       "unique                               69280                23505   \n",
       "top     최종구 금융위원장, 임팩트금융 정착 위해 정부 차원 기금 조성  코로나19 중앙재난안전대책본부 회의   \n",
       "freq                                     1                    8   \n",
       "\n",
       "                                              newsContent partNum processType  \\\n",
       "count                                               69280   69280       69280   \n",
       "unique                                              69280       2           2   \n",
       "top     최종구 금융위원회 위원장이 \\\"'임팩트금융(사회적금융)'의 안착 차원에서 정부가 직...      P2           A   \n",
       "freq                                                    1   34862       59365   \n",
       "\n",
       "       processLevel                                       sentenceInfo  \n",
       "count         69280                                              69280  \n",
       "unique            3                                              69280  \n",
       "top               하  [{'sentenceNo': 1, 'sentenceContent': '최종구 금융위...  \n",
       "freq          63041                                                  1  "
      ]
     },
     "execution_count": 225,
     "metadata": {},
     "output_type": "execute_result"
    }
   ],
   "source": [
    "new_val.describe(include=\"object\")"
   ]
  },
  {
   "cell_type": "markdown",
   "metadata": {},
   "source": [
    "## 시각화"
   ]
  },
  {
   "cell_type": "markdown",
   "metadata": {},
   "source": [
    "useType (Original Validation Data)\n",
    "\n",
    "0  =>  37006\n",
    "\n",
    "1  =>  36338"
   ]
  },
  {
   "cell_type": "code",
   "execution_count": 226,
   "metadata": {},
   "outputs": [
    {
     "data": {
      "text/plain": [
       "useType\n",
       "0    36289\n",
       "1    32991\n",
       "Name: count, dtype: int64"
      ]
     },
     "execution_count": 226,
     "metadata": {},
     "output_type": "execute_result"
    }
   ],
   "source": [
    "new_val['useType'].value_counts()"
   ]
  },
  {
   "cell_type": "code",
   "execution_count": 230,
   "metadata": {},
   "outputs": [
    {
     "data": {
      "text/plain": [
       "<Axes: xlabel='useType', ylabel='count'>"
      ]
     },
     "execution_count": 230,
     "metadata": {},
     "output_type": "execute_result"
    },
    {
     "data": {
      "image/png": "[encoded data removed]",
      "text/plain": [
       "<Figure size 640x480 with 1 Axes>"
      ]
     },
     "metadata": {},
     "output_type": "display_data"
    }
   ],
   "source": [
    "sns.countplot(data=new_val, x='useType', palette=color)"
   ]
  },
  {
   "cell_type": "code",
   "execution_count": 233,
   "metadata": {},
   "outputs": [
    {
     "data": {
      "text/plain": [
       "<Axes: xlabel='newsCategory', ylabel='count'>"
      ]
     },
     "execution_count": 233,
     "metadata": {},
     "output_type": "execute_result"
    },
    {
     "data": {
      "image/png": "[encoded data removed]",
      "text/plain": [
       "<Figure size 640x480 with 1 Axes>"
      ]
     },
     "metadata": {},
     "output_type": "display_data"
    }
   ],
   "source": [
    "sns.countplot(data=new_val, x='newsCategory', hue='useType',\n",
    "              order=df['newsCategory'].value_counts().index, palette=color)"
   ]
  }
 ],
 "metadata": {
  "kernelspec": {
   "display_name": "Python 3",
   "language": "python",
   "name": "python3"
  },
  "language_info": {
   "codemirror_mode": {
    "name": "ipython",
    "version": 3
   },
   "file_extension": ".py",
   "mimetype": "text/x-python",
   "name": "python",
   "nbconvert_exporter": "python",
   "pygments_lexer": "ipython3",
   "version": "3.11.9"
  }
 },
 "nbformat": 4,
 "nbformat_minor": 2
}
